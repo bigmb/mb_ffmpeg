{
 "cells": [
  {
   "cell_type": "code",
   "execution_count": null,
   "metadata": {},
   "outputs": [],
   "source": [
    "## checking all the functions"
   ]
  },
  {
   "cell_type": "code",
   "execution_count": 1,
   "metadata": {},
   "outputs": [],
   "source": [
    "from mb_ffmpeg.basic_ops import BasicOperations\n"
   ]
  },
  {
   "cell_type": "code",
   "execution_count": 5,
   "metadata": {},
   "outputs": [
    {
     "name": "stdout",
     "output_type": "stream",
     "text": [
      "\u001b[0;31mInit signature:\u001b[0m \u001b[0mBasicOperations\u001b[0m\u001b[0;34m(\u001b[0m\u001b[0mffmpeg_path\u001b[0m\u001b[0;34m:\u001b[0m \u001b[0mstr\u001b[0m \u001b[0;34m=\u001b[0m \u001b[0;34m'ffmpeg'\u001b[0m\u001b[0;34m)\u001b[0m\u001b[0;34m\u001b[0m\u001b[0;34m\u001b[0m\u001b[0m\n",
      "\u001b[0;31mDocstring:\u001b[0m      <no docstring>\n",
      "\u001b[0;31mInit docstring:\u001b[0m\n",
      "Initialize FFmpeg base class.\n",
      "\n",
      "Args:\n",
      "    ffmpeg_path (str): Path to FFmpeg executable. Defaults to \"ffmpeg\"\n",
      "                     assuming it's available in system PATH.\n",
      "\u001b[0;31mFile:\u001b[0m           ~/Desktop/mb_packages/mb_ffmpeg/mb_ffmpeg/basic_ops.py\n",
      "\u001b[0;31mType:\u001b[0m           type\n",
      "\u001b[0;31mSubclasses:\u001b[0m     "
     ]
    }
   ],
   "source": [
    "BasicOperations?"
   ]
  },
  {
   "cell_type": "code",
   "execution_count": 2,
   "metadata": {},
   "outputs": [],
   "source": [
    "basic = BasicOperations()"
   ]
  },
  {
   "cell_type": "code",
   "execution_count": 9,
   "metadata": {},
   "outputs": [
    {
     "data": {
      "text/plain": [
       "'./example_files/test_video.avi'"
      ]
     },
     "execution_count": 9,
     "metadata": {},
     "output_type": "execute_result"
    }
   ],
   "source": [
    "basic.convert_format('./example_files/test_video.mp4', 'avi')"
   ]
  },
  {
   "cell_type": "code",
   "execution_count": 3,
   "metadata": {},
   "outputs": [
    {
     "data": {
      "text/plain": [
       "'./example_files/test_video_trimmed.mp4'"
      ]
     },
     "execution_count": 3,
     "metadata": {},
     "output_type": "execute_result"
    }
   ],
   "source": [
    "basic.trim_media('./example_files/test_video.mp4', 0, 5)"
   ]
  },
  {
   "cell_type": "code",
   "execution_count": null,
   "metadata": {},
   "outputs": [
    {
     "data": {
      "text/plain": [
       "'./example_files/frames'"
      ]
     },
     "execution_count": 7,
     "metadata": {},
     "output_type": "execute_result"
    }
   ],
   "source": [
    "basic.extract_frames('./example_files/test_video.mp4', fps=0.5)  # 0.5 frame per second - can be 1 to get all frames"
   ]
  },
  {
   "cell_type": "code",
   "execution_count": 8,
   "metadata": {},
   "outputs": [
    {
     "data": {
      "text/plain": [
       "'./example_files/test_video_resized.mp4'"
      ]
     },
     "execution_count": 8,
     "metadata": {},
     "output_type": "execute_result"
    }
   ],
   "source": [
    "basic.change_resolution('./example_files/test_video.mp4', (512, 512))"
   ]
  },
  {
   "cell_type": "code",
   "execution_count": 11,
   "metadata": {},
   "outputs": [
    {
     "data": {
      "text/plain": [
       "'./example_files/test_video_compressed.mp4'"
      ]
     },
     "execution_count": 11,
     "metadata": {},
     "output_type": "execute_result"
    }
   ],
   "source": [
    "basic.compress_video('./example_files/test_video.mp4', crf=25)"
   ]
  },
  {
   "cell_type": "code",
   "execution_count": 4,
   "metadata": {},
   "outputs": [
    {
     "data": {
      "text/plain": [
       "{'streams': [{'index': 0,\n",
       "   'codec_name': 'h264',\n",
       "   'codec_long_name': 'H.264 / AVC / MPEG-4 AVC / MPEG-4 part 10',\n",
       "   'profile': 'High',\n",
       "   'codec_type': 'video',\n",
       "   'codec_tag_string': 'avc1',\n",
       "   'codec_tag': '0x31637661',\n",
       "   'width': 1280,\n",
       "   'height': 720,\n",
       "   'coded_width': 1280,\n",
       "   'coded_height': 720,\n",
       "   'closed_captions': 0,\n",
       "   'film_grain': 0,\n",
       "   'has_b_frames': 0,\n",
       "   'pix_fmt': 'yuv420p',\n",
       "   'level': 31,\n",
       "   'chroma_location': 'left',\n",
       "   'field_order': 'progressive',\n",
       "   'refs': 1,\n",
       "   'is_avc': 'true',\n",
       "   'nal_length_size': '4',\n",
       "   'id': '0x1',\n",
       "   'r_frame_rate': '24000/1001',\n",
       "   'avg_frame_rate': '24000/1001',\n",
       "   'time_base': '1/48000',\n",
       "   'start_pts': 0,\n",
       "   'start_time': '0.000000',\n",
       "   'duration_ts': 2881920,\n",
       "   'duration': '60.040000',\n",
       "   'bit_rate': '1525920',\n",
       "   'bits_per_raw_sample': '8',\n",
       "   'nb_frames': '1440',\n",
       "   'extradata_size': 37,\n",
       "   'disposition': {'default': 1,\n",
       "    'dub': 0,\n",
       "    'original': 0,\n",
       "    'comment': 0,\n",
       "    'lyrics': 0,\n",
       "    'karaoke': 0,\n",
       "    'forced': 0,\n",
       "    'hearing_impaired': 0,\n",
       "    'visual_impaired': 0,\n",
       "    'clean_effects': 0,\n",
       "    'attached_pic': 0,\n",
       "    'timed_thumbnails': 0,\n",
       "    'captions': 0,\n",
       "    'descriptions': 0,\n",
       "    'metadata': 0,\n",
       "    'dependent': 0,\n",
       "    'still_image': 0},\n",
       "   'tags': {'language': 'und',\n",
       "    'handler_name': 'VideoHandler',\n",
       "    'vendor_id': '[0][0][0][0]'}},\n",
       "  {'index': 1,\n",
       "   'codec_name': 'aac',\n",
       "   'codec_long_name': 'AAC (Advanced Audio Coding)',\n",
       "   'profile': 'LC',\n",
       "   'codec_type': 'audio',\n",
       "   'codec_tag_string': 'mp4a',\n",
       "   'codec_tag': '0x6134706d',\n",
       "   'sample_fmt': 'fltp',\n",
       "   'sample_rate': '44100',\n",
       "   'channels': 2,\n",
       "   'channel_layout': 'stereo',\n",
       "   'bits_per_sample': 0,\n",
       "   'initial_padding': 0,\n",
       "   'id': '0x2',\n",
       "   'r_frame_rate': '0/0',\n",
       "   'avg_frame_rate': '0/0',\n",
       "   'time_base': '1/44100',\n",
       "   'start_pts': 0,\n",
       "   'start_time': '0.000000',\n",
       "   'duration_ts': 2649088,\n",
       "   'duration': '60.070023',\n",
       "   'bit_rate': '191999',\n",
       "   'nb_frames': '2587',\n",
       "   'extradata_size': 16,\n",
       "   'disposition': {'default': 1,\n",
       "    'dub': 0,\n",
       "    'original': 0,\n",
       "    'comment': 0,\n",
       "    'lyrics': 0,\n",
       "    'karaoke': 0,\n",
       "    'forced': 0,\n",
       "    'hearing_impaired': 0,\n",
       "    'visual_impaired': 0,\n",
       "    'clean_effects': 0,\n",
       "    'attached_pic': 0,\n",
       "    'timed_thumbnails': 0,\n",
       "    'captions': 0,\n",
       "    'descriptions': 0,\n",
       "    'metadata': 0,\n",
       "    'dependent': 0,\n",
       "    'still_image': 0},\n",
       "   'tags': {'creation_time': '2013-07-26T18:36:06.000000Z',\n",
       "    'language': 'und',\n",
       "    'handler_name': 'IsoMedia File Produced by Google, 5-11-2011',\n",
       "    'vendor_id': '[0][0][0][0]'}}],\n",
       " 'format': {'filename': './example_files/test_video.mp4',\n",
       "  'nb_streams': 2,\n",
       "  'nb_programs': 0,\n",
       "  'format_name': 'mov,mp4,m4a,3gp,3g2,mj2',\n",
       "  'format_long_name': 'QuickTime / MOV',\n",
       "  'start_time': '0.000000',\n",
       "  'duration': '60.070023',\n",
       "  'size': '12917485',\n",
       "  'bit_rate': '1720323',\n",
       "  'probe_score': 100,\n",
       "  'tags': {'major_brand': 'mp42',\n",
       "   'minor_version': '0',\n",
       "   'compatible_brands': 'isommp42',\n",
       "   'creation_time': '2013-07-26T18:36:04.000000Z'}}}"
      ]
     },
     "execution_count": 4,
     "metadata": {},
     "output_type": "execute_result"
    }
   ],
   "source": [
    "basic.video_info('./example_files/test_video.mp4')"
   ]
  },
  {
   "cell_type": "code",
   "execution_count": null,
   "metadata": {},
   "outputs": [],
   "source": []
  },
  {
   "cell_type": "code",
   "execution_count": 12,
   "metadata": {},
   "outputs": [],
   "source": [
    "from mb_ffmpeg.audio_ops import AudioOperations"
   ]
  },
  {
   "cell_type": "code",
   "execution_count": 14,
   "metadata": {},
   "outputs": [],
   "source": [
    "audio = AudioOperations()"
   ]
  },
  {
   "cell_type": "code",
   "execution_count": 15,
   "metadata": {},
   "outputs": [
    {
     "data": {
      "text/plain": [
       "'./example_files/test_video.mp3'"
      ]
     },
     "execution_count": 15,
     "metadata": {},
     "output_type": "execute_result"
    }
   ],
   "source": [
    "audio.extract_audio('./example_files/test_video.mp4', 'mp3')"
   ]
  },
  {
   "cell_type": "code",
   "execution_count": 16,
   "metadata": {},
   "outputs": [
    {
     "data": {
      "text/plain": [
       "'./example_files/test_video_vol.mp3'"
      ]
     },
     "execution_count": 16,
     "metadata": {},
     "output_type": "execute_result"
    }
   ],
   "source": [
    "audio.change_volume('./example_files/test_video.mp3', 1.5) ## more than 1 increases volume, less than 1 decreases volume"
   ]
  },
  {
   "cell_type": "code",
   "execution_count": 20,
   "metadata": {},
   "outputs": [
    {
     "data": {
      "text/plain": [
       "'./example_files/mixed_audio.mp3'"
      ]
     },
     "execution_count": 20,
     "metadata": {},
     "output_type": "execute_result"
    }
   ],
   "source": [
    "audio.mix_audio(\n",
    "    ['./example_files/test_video.mp3', './example_files/test_video_vol.mp3'],\n",
    "    './example_files/mixed_audio.mp3',\n",
    "    weights=[1.0, 0.2]\n",
    ")"
   ]
  },
  {
   "cell_type": "code",
   "execution_count": null,
   "metadata": {},
   "outputs": [],
   "source": []
  },
  {
   "cell_type": "code",
   "execution_count": 1,
   "metadata": {},
   "outputs": [],
   "source": [
    "from mb_ffmpeg.video_ops import VideoOperations\n",
    "\n",
    "video = VideoOperations()"
   ]
  },
  {
   "cell_type": "code",
   "execution_count": 22,
   "metadata": {},
   "outputs": [
    {
     "data": {
      "text/plain": [
       "'./example_files/test_video_cropped.mp4'"
      ]
     },
     "execution_count": 22,
     "metadata": {},
     "output_type": "execute_result"
    }
   ],
   "source": [
    "video.crop_video('./example_files/test_video.mp4', 1280, 720, 0, 140)"
   ]
  },
  {
   "cell_type": "code",
   "execution_count": 23,
   "metadata": {},
   "outputs": [
    {
     "data": {
      "text/plain": [
       "'./example_files/test_video_watermark.mp4'"
      ]
     },
     "execution_count": 23,
     "metadata": {},
     "output_type": "execute_result"
    }
   ],
   "source": [
    "video.add_watermark(\n",
    "    './example_files/test_video.mp4',\n",
    "    './example_files/lena_test_image.jpg',\n",
    "    position=\"bottom_right\",\n",
    "    opacity=0.3\n",
    ")"
   ]
  },
  {
   "cell_type": "code",
   "execution_count": 24,
   "metadata": {},
   "outputs": [
    {
     "data": {
      "text/plain": [
       "'./example_files/test_video_text.mp4'"
      ]
     },
     "execution_count": 24,
     "metadata": {},
     "output_type": "execute_result"
    }
   ],
   "source": [
    "video.add_text(\n",
    "    './example_files/test_video.mp4',\n",
    "    'HELLO',\n",
    "    position=\"bottom\",\n",
    "    font_size=16,\n",
    "    color=\"yellow\"\n",
    ")"
   ]
  },
  {
   "cell_type": "code",
   "execution_count": 5,
   "metadata": {},
   "outputs": [
    {
     "data": {
      "text/plain": [
       "'./example_files/test_video.gif'"
      ]
     },
     "execution_count": 5,
     "metadata": {},
     "output_type": "execute_result"
    }
   ],
   "source": [
    "video.create_gif(\n",
    "    './example_files/test_video.mp4',\n",
    "    start_time=\"00:00:10\",\n",
    "    duration=\"2\",\n",
    "    fps=15,\n",
    "    scale=480\n",
    ")"
   ]
  },
  {
   "cell_type": "code",
   "execution_count": 20,
   "metadata": {},
   "outputs": [
    {
     "data": {
      "text/plain": [
       "'/home/malav/Downloads/test_video_testing_new5.mp4'"
      ]
     },
     "execution_count": 20,
     "metadata": {},
     "output_type": "execute_result"
    }
   ],
   "source": [
    "video.change_aspect_ratio('/home/malav/Downloads/trimed.mp4',\n",
    "                          \"0.5625\", ## 9:16 aspect ratio\n",
    "                          output_file='/home/malav/Downloads/test_video_testing_new5.mp4')"
   ]
  },
  {
   "cell_type": "code",
   "execution_count": null,
   "metadata": {},
   "outputs": [],
   "source": []
  },
  {
   "cell_type": "code",
   "execution_count": 6,
   "metadata": {},
   "outputs": [],
   "source": [
    "from mb_ffmpeg.advanced_ops import AdvancedOperations\n",
    "\n",
    "advanced = AdvancedOperations()\n"
   ]
  },
  {
   "cell_type": "code",
   "execution_count": null,
   "metadata": {},
   "outputs": [],
   "source": [
    "advanced.create_video_wall(\n",
    "    ['./example_files/test_video.mp4', './example_files/test_video.mp4', './example_files/test_video.mp4', './example_files/test_video.mp4'],\n",
    "    (2, 2),\n",
    "    './example_files/video_wall.mp4'\n",
    ")"
   ]
  },
  {
   "cell_type": "code",
   "execution_count": 9,
   "metadata": {},
   "outputs": [
    {
     "data": {
      "text/plain": [
       "'./example_files/test_video_pip.mp4'"
      ]
     },
     "execution_count": 9,
     "metadata": {},
     "output_type": "execute_result"
    }
   ],
   "source": [
    "advanced.create_picture_in_picture(\n",
    "    './example_files/test_video.mp4',\n",
    "    './example_files/test_video.mp4',\n",
    "    position=\"bottom_right\",\n",
    "    scale=0.25\n",
    ")"
   ]
  },
  {
   "cell_type": "code",
   "execution_count": null,
   "metadata": {},
   "outputs": [],
   "source": []
  },
  {
   "cell_type": "code",
   "execution_count": null,
   "metadata": {},
   "outputs": [],
   "source": []
  },
  {
   "cell_type": "code",
   "execution_count": 3,
   "metadata": {},
   "outputs": [
    {
     "name": "stderr",
     "output_type": "stream",
     "text": [
      "ffmpeg version 6.0-6ubuntu1.1 Copyright (c) 2000-2023 the FFmpeg developers\n",
      "  built with gcc 13 (Ubuntu 13.2.0-4ubuntu3)\n",
      "  configuration: --prefix=/usr --extra-version=6ubuntu1.1 --toolchain=hardened --libdir=/usr/lib/x86_64-linux-gnu --incdir=/usr/include/x86_64-linux-gnu --arch=amd64 --enable-gpl --disable-stripping --enable-gnutls --enable-ladspa --enable-libaom --enable-libass --enable-libbluray --enable-libbs2b --enable-libcaca --enable-libcdio --enable-libcodec2 --enable-libdav1d --enable-libflite --enable-libfontconfig --enable-libfreetype --enable-libfribidi --enable-libglslang --enable-libgme --enable-libgsm --enable-libjack --enable-libmp3lame --enable-libmysofa --enable-libopenjpeg --enable-libopenmpt --enable-libopus --enable-libpulse --enable-librabbitmq --enable-librist --enable-librubberband --enable-libshine --enable-libsnappy --enable-libsoxr --enable-libspeex --enable-libsrt --enable-libssh --enable-libsvtav1 --enable-libtheora --enable-libtwolame --enable-libvidstab --enable-libvorbis --enable-libvpx --enable-libwebp --enable-libx265 --enable-libxml2 --enable-libxvid --enable-libzimg --enable-libzmq --enable-libzvbi --enable-lv2 --enable-omx --enable-openal --enable-opencl --enable-opengl --enable-sdl2 --disable-sndio --enable-libjxl --enable-pocketsphinx --enable-librsvg --enable-libvpl --disable-libmfx --enable-libdc1394 --enable-libdrm --enable-libiec61883 --enable-chromaprint --enable-frei0r --enable-libx264 --enable-libplacebo --enable-librav1e --enable-shared\n",
      "  libavutil      58.  2.100 / 58.  2.100\n",
      "  libavcodec     60.  3.100 / 60.  3.100\n",
      "  libavformat    60.  3.100 / 60.  3.100\n",
      "  libavdevice    60.  1.100 / 60.  1.100\n",
      "  libavfilter     9.  3.100 /  9.  3.100\n",
      "  libswscale      7.  1.100 /  7.  1.100\n",
      "  libswresample   4. 10.100 /  4. 10.100\n",
      "  libpostproc    57.  1.100 / 57.  1.100\n",
      "Input #0, mov,mp4,m4a,3gp,3g2,mj2, from '/home/malav/Downloads/trimed.mp4':\n",
      "  Metadata:\n",
      "    major_brand     : isom\n",
      "    minor_version   : 512\n",
      "    compatible_brands: isomiso2avc1mp41\n",
      "    encoder         : Lavf60.3.100\n",
      "  Duration: 00:00:25.01, start: 0.000000, bitrate: 1899 kb/s\n",
      "  Stream #0:0[0x1](und): Video: h264 (High) (avc1 / 0x31637661), yuv420p(progressive), 1280x720, 1704 kb/s, 23.98 fps, 23.98 tbr, 48k tbn (default)\n",
      "    Metadata:\n",
      "      handler_name    : VideoHandler\n",
      "      vendor_id       : [0][0][0][0]\n",
      "  Stream #0:1[0x2](und): Audio: aac (LC) (mp4a / 0x6134706D), 44100 Hz, stereo, fltp, 191 kb/s (default)\n",
      "    Metadata:\n",
      "      handler_name    : IsoMedia File Produced by Google, 5-11-2011\n",
      "      vendor_id       : [0][0][0][0]\n",
      "Stream mapping:\n",
      "  Stream #0:0 -> #0:0 (h264 (native) -> h264 (libx264))\n",
      "  Stream #0:1 -> #0:1 (aac (native) -> aac (native))\n",
      "Press [q] to stop, [?] for help\n",
      "[libx264 @ 0x574f093a50c0] using cpu capabilities: MMX2 SSE2Fast SSSE3 SSE4.2 AVX FMA3 BMI2 AVX2\n",
      "[libx264 @ 0x574f093a50c0] profile High, level 3.0, 4:2:0, 8-bit\n",
      "[libx264 @ 0x574f093a50c0] 264 - core 164 r3095 baee400 - H.264/MPEG-4 AVC codec - Copyleft 2003-2022 - http://www.videolan.org/x264.html - options: cabac=1 ref=3 deblock=1:0:0 analyse=0x3:0x113 me=hex subme=7 psy=1 psy_rd=1.00:0.00 mixed_ref=1 me_range=16 chroma_me=1 trellis=1 8x8dct=1 cqm=0 deadzone=21,11 fast_pskip=1 chroma_qp_offset=-2 threads=22 lookahead_threads=3 sliced_threads=0 nr=0 decimate=1 interlaced=0 bluray_compat=0 constrained_intra=0 bframes=3 b_pyramid=2 b_adapt=1 b_bias=0 direct=1 weightb=1 open_gop=0 weightp=2 keyint=250 keyint_min=23 scenecut=40 intra_refresh=0 rc_lookahead=40 rc=crf mbtree=1 crf=23.0 qcomp=0.60 qpmin=0 qpmax=69 qpstep=4 ip_ratio=1.40 aq=1:1.00\n",
      "Output #0, mp4, to '/home/malav/Downloads/tirm_new.mp4':\n",
      "  Metadata:\n",
      "    major_brand     : isom\n",
      "    minor_version   : 512\n",
      "    compatible_brands: isomiso2avc1mp41\n",
      "    encoder         : Lavf60.3.100\n",
      "  Stream #0:0(und): Video: h264 (avc1 / 0x31637661), yuv420p(progressive), 404x720, q=2-31, 23.98 fps, 24k tbn (default)\n",
      "    Metadata:\n",
      "      handler_name    : VideoHandler\n",
      "      vendor_id       : [0][0][0][0]\n",
      "      encoder         : Lavc60.3.100 libx264\n",
      "    Side data:\n",
      "      cpb: bitrate max/min/avg: 0/0/0 buffer size: 0 vbv_delay: N/A\n",
      "  Stream #0:1(und): Audio: aac (LC) (mp4a / 0x6134706D), 44100 Hz, stereo, fltp, 128 kb/s (default)\n",
      "    Metadata:\n",
      "      handler_name    : IsoMedia File Produced by Google, 5-11-2011\n",
      "      vendor_id       : [0][0][0][0]\n",
      "      encoder         : Lavc60.3.100 aac\n",
      "frame=  600 fps=463 q=-1.0 Lsize=    2487kB time=00:00:24.98 bitrate= 815.4kbits/s dup=1 drop=0 speed=19.3x    \n",
      "video:2068kB audio:399kB subtitle:0kB other streams:0kB global headers:0kB muxing overhead: 0.795041%\n",
      "[libx264 @ 0x574f093a50c0] frame I:30    Avg QP:20.06  size: 13499\n",
      "[libx264 @ 0x574f093a50c0] frame P:208   Avg QP:23.34  size:  4623\n",
      "[libx264 @ 0x574f093a50c0] frame B:362   Avg QP:25.26  size:  2073\n",
      "[libx264 @ 0x574f093a50c0] consecutive B-frames: 16.3%  5.7% 12.0% 66.0%\n",
      "[libx264 @ 0x574f093a50c0] mb I  I16..4: 13.2% 72.3% 14.4%\n",
      "[libx264 @ 0x574f093a50c0] mb P  I16..4:  6.8% 23.6%  1.4%  P16..4: 33.4% 11.4%  4.2%  0.0%  0.0%    skip:19.3%\n",
      "[libx264 @ 0x574f093a50c0] mb B  I16..4:  1.5%  4.8%  0.3%  B16..8: 41.6%  6.1%  0.6%  direct: 1.5%  skip:43.5%  L0:49.7% L1:46.7% BI: 3.7%\n",
      "[libx264 @ 0x574f093a50c0] 8x8 transform intra:73.5% inter:86.2%\n",
      "[libx264 @ 0x574f093a50c0] coded y,uvDC,uvAC intra: 47.2% 56.9% 9.8% inter: 11.4% 15.4% 0.1%\n",
      "[libx264 @ 0x574f093a50c0] i16 v,h,dc,p: 26% 38%  8% 28%\n",
      "[libx264 @ 0x574f093a50c0] i8 v,h,dc,ddl,ddr,vr,hd,vl,hu: 29% 23% 18%  4%  5%  6%  5%  5%  5%\n",
      "[libx264 @ 0x574f093a50c0] i4 v,h,dc,ddl,ddr,vr,hd,vl,hu: 23% 33%  9%  4%  8%  8%  7%  5%  4%\n",
      "[libx264 @ 0x574f093a50c0] i8c dc,h,v,p: 52% 27% 16%  5%\n",
      "[libx264 @ 0x574f093a50c0] Weighted P-Frames: Y:2.9% UV:1.4%\n",
      "[libx264 @ 0x574f093a50c0] ref P L0: 72.8% 11.5% 11.4%  4.2%  0.0%\n",
      "[libx264 @ 0x574f093a50c0] ref B L0: 93.0%  5.6%  1.4%\n",
      "[libx264 @ 0x574f093a50c0] ref B L1: 97.6%  2.4%\n",
      "[libx264 @ 0x574f093a50c0] kb/s:676.80\n",
      "[aac @ 0x574f09305900] Qavg: 524.576\n"
     ]
    },
    {
     "data": {
      "text/plain": [
       "0"
      ]
     },
     "execution_count": 3,
     "metadata": {},
     "output_type": "execute_result"
    }
   ],
   "source": [
    "#os.system('ffmpeg -i /home/malav/Downloads/trimed.mp4 -vf \"crop=in_h*9/16:in_h\" /home/malav/Downloads/tirm_new.mp4')"
   ]
  },
  {
   "cell_type": "code",
   "execution_count": 4,
   "metadata": {},
   "outputs": [
    {
     "name": "stderr",
     "output_type": "stream",
     "text": [
      "ffmpeg version 6.0-6ubuntu1.1 Copyright (c) 2000-2023 the FFmpeg developers\n",
      "  built with gcc 13 (Ubuntu 13.2.0-4ubuntu3)\n",
      "  configuration: --prefix=/usr --extra-version=6ubuntu1.1 --toolchain=hardened --libdir=/usr/lib/x86_64-linux-gnu --incdir=/usr/include/x86_64-linux-gnu --arch=amd64 --enable-gpl --disable-stripping --enable-gnutls --enable-ladspa --enable-libaom --enable-libass --enable-libbluray --enable-libbs2b --enable-libcaca --enable-libcdio --enable-libcodec2 --enable-libdav1d --enable-libflite --enable-libfontconfig --enable-libfreetype --enable-libfribidi --enable-libglslang --enable-libgme --enable-libgsm --enable-libjack --enable-libmp3lame --enable-libmysofa --enable-libopenjpeg --enable-libopenmpt --enable-libopus --enable-libpulse --enable-librabbitmq --enable-librist --enable-librubberband --enable-libshine --enable-libsnappy --enable-libsoxr --enable-libspeex --enable-libsrt --enable-libssh --enable-libsvtav1 --enable-libtheora --enable-libtwolame --enable-libvidstab --enable-libvorbis --enable-libvpx --enable-libwebp --enable-libx265 --enable-libxml2 --enable-libxvid --enable-libzimg --enable-libzmq --enable-libzvbi --enable-lv2 --enable-omx --enable-openal --enable-opencl --enable-opengl --enable-sdl2 --disable-sndio --enable-libjxl --enable-pocketsphinx --enable-librsvg --enable-libvpl --disable-libmfx --enable-libdc1394 --enable-libdrm --enable-libiec61883 --enable-chromaprint --enable-frei0r --enable-libx264 --enable-libplacebo --enable-librav1e --enable-shared\n",
      "  libavutil      58.  2.100 / 58.  2.100\n",
      "  libavcodec     60.  3.100 / 60.  3.100\n",
      "  libavformat    60.  3.100 / 60.  3.100\n",
      "  libavdevice    60.  1.100 / 60.  1.100\n",
      "  libavfilter     9.  3.100 /  9.  3.100\n",
      "  libswscale      7.  1.100 /  7.  1.100\n",
      "  libswresample   4. 10.100 /  4. 10.100\n",
      "  libpostproc    57.  1.100 / 57.  1.100\n",
      "Input #0, mov,mp4,m4a,3gp,3g2,mj2, from '/home/malav/Downloads/tirm_new.mp4':\n",
      "  Metadata:\n",
      "    major_brand     : isom\n",
      "    minor_version   : 512\n",
      "    compatible_brands: isomiso2avc1mp41\n",
      "    encoder         : Lavf60.3.100\n",
      "  Duration: 00:00:25.03, start: 0.000000, bitrate: 814 kb/s\n",
      "  Stream #0:0[0x1](und): Video: h264 (High) (avc1 / 0x31637661), yuv420p(progressive), 404x720, 677 kb/s, 23.98 fps, 23.98 tbr, 24k tbn (default)\n",
      "    Metadata:\n",
      "      handler_name    : VideoHandler\n",
      "      vendor_id       : [0][0][0][0]\n",
      "      encoder         : Lavc60.3.100 libx264\n",
      "  Stream #0:1[0x2](und): Audio: aac (LC) (mp4a / 0x6134706D), 44100 Hz, stereo, fltp, 130 kb/s (default)\n",
      "    Metadata:\n",
      "      handler_name    : IsoMedia File Produced by Google, 5-11-2011\n",
      "      vendor_id       : [0][0][0][0]\n",
      "Stream mapping:\n",
      "  Stream #0:0 -> #0:0 (h264 (native) -> h264 (libx264))\n",
      "  Stream #0:1 -> #0:1 (aac (native) -> aac (native))\n",
      "Press [q] to stop, [?] for help\n",
      "[libx264 @ 0x59bd572efec0] using cpu capabilities: MMX2 SSE2Fast SSSE3 SSE4.2 AVX FMA3 BMI2 AVX2\n",
      "[libx264 @ 0x59bd572efec0] profile High, level 3.1, 4:2:0, 8-bit\n",
      "[libx264 @ 0x59bd572efec0] 264 - core 164 r3095 baee400 - H.264/MPEG-4 AVC codec - Copyleft 2003-2022 - http://www.videolan.org/x264.html - options: cabac=1 ref=3 deblock=1:0:0 analyse=0x3:0x113 me=hex subme=7 psy=1 psy_rd=1.00:0.00 mixed_ref=1 me_range=16 chroma_me=1 trellis=1 8x8dct=1 cqm=0 deadzone=21,11 fast_pskip=1 chroma_qp_offset=-2 threads=36 lookahead_threads=6 sliced_threads=0 nr=0 decimate=1 interlaced=0 bluray_compat=0 constrained_intra=0 bframes=3 b_pyramid=2 b_adapt=1 b_bias=0 direct=1 weightb=1 open_gop=0 weightp=2 keyint=250 keyint_min=23 scenecut=40 intra_refresh=0 rc_lookahead=40 rc=crf mbtree=1 crf=23.0 qcomp=0.60 qpmin=0 qpmax=69 qpstep=4 ip_ratio=1.40 aq=1:1.00\n",
      "Output #0, mp4, to '/home/malav/Downloads/tirm_new2.mp4':\n",
      "  Metadata:\n",
      "    major_brand     : isom\n",
      "    minor_version   : 512\n",
      "    compatible_brands: isomiso2avc1mp41\n",
      "    encoder         : Lavf60.3.100\n",
      "  Stream #0:0(und): Video: h264 (avc1 / 0x31637661), yuv420p(tv, progressive), 720x1280, q=2-31, 23.98 fps, 24k tbn (default)\n",
      "    Metadata:\n",
      "      handler_name    : VideoHandler\n",
      "      vendor_id       : [0][0][0][0]\n",
      "      encoder         : Lavc60.3.100 libx264\n",
      "    Side data:\n",
      "      cpb: bitrate max/min/avg: 0/0/0 buffer size: 0 vbv_delay: N/A\n",
      "  Stream #0:1(und): Audio: aac (LC) (mp4a / 0x6134706D), 44100 Hz, stereo, fltp, 128 kb/s (default)\n",
      "    Metadata:\n",
      "      handler_name    : IsoMedia File Produced by Google, 5-11-2011\n",
      "      vendor_id       : [0][0][0][0]\n",
      "      encoder         : Lavc60.3.100 aac\n",
      "frame=  600 fps=240 q=-1.0 Lsize=    4977kB time=00:00:24.98 bitrate=1632.0kbits/s speed=9.99x    \n",
      "video:4560kB audio:397kB subtitle:0kB other streams:0kB global headers:0kB muxing overhead: 0.393258%\n",
      "[libx264 @ 0x59bd572efec0] frame I:32    Avg QP:19.49  size: 25128\n",
      "[libx264 @ 0x59bd572efec0] frame P:227   Avg QP:22.59  size: 10358\n",
      "[libx264 @ 0x59bd572efec0] frame B:341   Avg QP:24.35  size:  4439\n",
      "[libx264 @ 0x59bd572efec0] consecutive B-frames: 19.7% 10.7%  9.0% 60.7%\n",
      "[libx264 @ 0x59bd572efec0] mb I  I16..4: 19.9% 72.1%  8.0%\n",
      "[libx264 @ 0x59bd572efec0] mb P  I16..4: 11.5% 27.0%  0.8%  P16..4: 30.7%  6.7%  1.9%  0.0%  0.0%    skip:21.3%\n",
      "[libx264 @ 0x59bd572efec0] mb B  I16..4:  1.5%  3.0%  0.1%  B16..8: 35.1%  3.7%  0.3%  direct: 1.7%  skip:54.5%  L0:46.9% L1:50.8% BI: 2.3%\n",
      "[libx264 @ 0x59bd572efec0] 8x8 transform intra:69.1% inter:91.8%\n",
      "[libx264 @ 0x59bd572efec0] coded y,uvDC,uvAC intra: 33.3% 43.5% 5.7% inter: 8.3% 14.5% 0.0%\n",
      "[libx264 @ 0x59bd572efec0] i16 v,h,dc,p: 28% 33%  5% 33%\n",
      "[libx264 @ 0x59bd572efec0] i8 v,h,dc,ddl,ddr,vr,hd,vl,hu: 32% 21% 18%  4%  5%  6%  5%  5%  4%\n",
      "[libx264 @ 0x59bd572efec0] i4 v,h,dc,ddl,ddr,vr,hd,vl,hu: 33% 26% 11%  3%  7%  7%  6%  4%  3%\n",
      "[libx264 @ 0x59bd572efec0] i8c dc,h,v,p: 57% 20% 18%  5%\n",
      "[libx264 @ 0x59bd572efec0] Weighted P-Frames: Y:3.1% UV:1.3%\n",
      "[libx264 @ 0x59bd572efec0] ref P L0: 72.7%  9.7% 12.7%  4.9%  0.0%\n",
      "[libx264 @ 0x59bd572efec0] ref B L0: 91.1%  7.4%  1.5%\n",
      "[libx264 @ 0x59bd572efec0] ref B L1: 97.4%  2.6%\n",
      "[libx264 @ 0x59bd572efec0] kb/s:1492.65\n",
      "[aac @ 0x59bd5738cc80] Qavg: 409.593\n"
     ]
    },
    {
     "data": {
      "text/plain": [
       "0"
      ]
     },
     "execution_count": 4,
     "metadata": {},
     "output_type": "execute_result"
    }
   ],
   "source": [
    "#os.system('ffmpeg -i /home/malav/Downloads/tirm_new.mp4 -vf \"scale=-1:1280,pad=720:1280:(ow-iw)/2:(oh-ih)/2\" /home/malav/Downloads/tirm_new2.mp4')\n"
   ]
  },
  {
   "cell_type": "code",
   "execution_count": 6,
   "metadata": {},
   "outputs": [
    {
     "name": "stderr",
     "output_type": "stream",
     "text": [
      "ffmpeg version 6.0-6ubuntu1.1 Copyright (c) 2000-2023 the FFmpeg developers\n",
      "  built with gcc 13 (Ubuntu 13.2.0-4ubuntu3)\n",
      "  configuration: --prefix=/usr --extra-version=6ubuntu1.1 --toolchain=hardened --libdir=/usr/lib/x86_64-linux-gnu --incdir=/usr/include/x86_64-linux-gnu --arch=amd64 --enable-gpl --disable-stripping --enable-gnutls --enable-ladspa --enable-libaom --enable-libass --enable-libbluray --enable-libbs2b --enable-libcaca --enable-libcdio --enable-libcodec2 --enable-libdav1d --enable-libflite --enable-libfontconfig --enable-libfreetype --enable-libfribidi --enable-libglslang --enable-libgme --enable-libgsm --enable-libjack --enable-libmp3lame --enable-libmysofa --enable-libopenjpeg --enable-libopenmpt --enable-libopus --enable-libpulse --enable-librabbitmq --enable-librist --enable-librubberband --enable-libshine --enable-libsnappy --enable-libsoxr --enable-libspeex --enable-libsrt --enable-libssh --enable-libsvtav1 --enable-libtheora --enable-libtwolame --enable-libvidstab --enable-libvorbis --enable-libvpx --enable-libwebp --enable-libx265 --enable-libxml2 --enable-libxvid --enable-libzimg --enable-libzmq --enable-libzvbi --enable-lv2 --enable-omx --enable-openal --enable-opencl --enable-opengl --enable-sdl2 --disable-sndio --enable-libjxl --enable-pocketsphinx --enable-librsvg --enable-libvpl --disable-libmfx --enable-libdc1394 --enable-libdrm --enable-libiec61883 --enable-chromaprint --enable-frei0r --enable-libx264 --enable-libplacebo --enable-librav1e --enable-shared\n",
      "  libavutil      58.  2.100 / 58.  2.100\n",
      "  libavcodec     60.  3.100 / 60.  3.100\n",
      "  libavformat    60.  3.100 / 60.  3.100\n",
      "  libavdevice    60.  1.100 / 60.  1.100\n",
      "  libavfilter     9.  3.100 /  9.  3.100\n",
      "  libswscale      7.  1.100 /  7.  1.100\n",
      "  libswresample   4. 10.100 /  4. 10.100\n",
      "  libpostproc    57.  1.100 / 57.  1.100\n",
      "Input #0, mov,mp4,m4a,3gp,3g2,mj2, from '/home/malav/Downloads/tirm_new2.mp4':\n",
      "  Metadata:\n",
      "    major_brand     : isom\n",
      "    minor_version   : 512\n",
      "    compatible_brands: isomiso2avc1mp41\n",
      "    encoder         : Lavf60.3.100\n",
      "  Duration: 00:00:25.03, start: 0.000000, bitrate: 1629 kb/s\n",
      "  Stream #0:0[0x1](und): Video: h264 (High) (avc1 / 0x31637661), yuv420p(progressive), 720x1280, 1492 kb/s, 23.98 fps, 23.98 tbr, 24k tbn (default)\n",
      "    Metadata:\n",
      "      handler_name    : VideoHandler\n",
      "      vendor_id       : [0][0][0][0]\n",
      "      encoder         : Lavc60.3.100 libx264\n",
      "  Stream #0:1[0x2](und): Audio: aac (LC) (mp4a / 0x6134706D), 44100 Hz, stereo, fltp, 130 kb/s (default)\n",
      "    Metadata:\n",
      "      handler_name    : IsoMedia File Produced by Google, 5-11-2011\n",
      "      vendor_id       : [0][0][0][0]\n",
      "Stream mapping:\n",
      "  Stream #0:0 -> #0:0 (h264 (native) -> h264 (libx264))\n",
      "  Stream #0:1 -> #0:1 (aac (native) -> aac (native))\n",
      "Press [q] to stop, [?] for help\n",
      "[libx264 @ 0x639fa2641ec0] using cpu capabilities: MMX2 SSE2Fast SSSE3 SSE4.2 AVX FMA3 BMI2 AVX2\n",
      "[libx264 @ 0x639fa2641ec0] profile High, level 3.1, 4:2:0, 8-bit\n",
      "[libx264 @ 0x639fa2641ec0] 264 - core 164 r3095 baee400 - H.264/MPEG-4 AVC codec - Copyleft 2003-2022 - http://www.videolan.org/x264.html - options: cabac=1 ref=3 deblock=1:0:0 analyse=0x3:0x113 me=hex subme=7 psy=1 psy_rd=1.00:0.00 mixed_ref=1 me_range=16 chroma_me=1 trellis=1 8x8dct=1 cqm=0 deadzone=21,11 fast_pskip=1 chroma_qp_offset=-2 threads=36 lookahead_threads=6 sliced_threads=0 nr=0 decimate=1 interlaced=0 bluray_compat=0 constrained_intra=0 bframes=3 b_pyramid=2 b_adapt=1 b_bias=0 direct=1 weightb=1 open_gop=0 weightp=2 keyint=250 keyint_min=23 scenecut=40 intra_refresh=0 rc_lookahead=40 rc=crf mbtree=1 crf=23.0 qcomp=0.60 qpmin=0 qpmax=69 qpstep=4 ip_ratio=1.40 aq=1:1.00\n",
      "Output #0, mp4, to '/home/malav/Downloads/tirm_new3.mp4':\n",
      "  Metadata:\n",
      "    major_brand     : isom\n",
      "    minor_version   : 512\n",
      "    compatible_brands: isomiso2avc1mp41\n",
      "    encoder         : Lavf60.3.100\n",
      "  Stream #0:0(und): Video: h264 (avc1 / 0x31637661), yuv420p(progressive), 720x1280, q=2-31, 23.98 fps, 24k tbn (default)\n",
      "    Metadata:\n",
      "      handler_name    : VideoHandler\n",
      "      vendor_id       : [0][0][0][0]\n",
      "      encoder         : Lavc60.3.100 libx264\n",
      "    Side data:\n",
      "      cpb: bitrate max/min/avg: 0/0/0 buffer size: 0 vbv_delay: N/A\n",
      "  Stream #0:1(und): Audio: aac (LC) (mp4a / 0x6134706D), 44100 Hz, stereo, fltp, 128 kb/s (default)\n",
      "    Metadata:\n",
      "      handler_name    : IsoMedia File Produced by Google, 5-11-2011\n",
      "      vendor_id       : [0][0][0][0]\n",
      "      encoder         : Lavc60.3.100 aac\n",
      "frame=  600 fps=246 q=-1.0 Lsize=    4826kB time=00:00:24.98 bitrate=1582.5kbits/s speed=10.2x    \n",
      "video:4410kB audio:397kB subtitle:0kB other streams:0kB global headers:0kB muxing overhead: 0.406413%\n",
      "[libx264 @ 0x639fa2641ec0] frame I:32    Avg QP:19.00  size: 24819\n",
      "[libx264 @ 0x639fa2641ec0] frame P:253   Avg QP:22.28  size:  9812\n",
      "[libx264 @ 0x639fa2641ec0] frame B:315   Avg QP:24.21  size:  3932\n",
      "[libx264 @ 0x639fa2641ec0] consecutive B-frames: 19.7% 28.3%  8.0% 44.0%\n",
      "[libx264 @ 0x639fa2641ec0] mb I  I16..4: 19.3% 74.0%  6.6%\n",
      "[libx264 @ 0x639fa2641ec0] mb P  I16..4: 10.0% 27.2%  0.6%  P16..4: 32.7%  6.0%  1.4%  0.0%  0.0%    skip:22.1%\n",
      "[libx264 @ 0x639fa2641ec0] mb B  I16..4:  1.2%  2.9%  0.1%  B16..8: 34.9%  3.1%  0.2%  direct: 1.3%  skip:56.3%  L0:46.3% L1:51.7% BI: 2.0%\n",
      "[libx264 @ 0x639fa2641ec0] 8x8 transform intra:72.2% inter:93.9%\n",
      "[libx264 @ 0x639fa2641ec0] coded y,uvDC,uvAC intra: 32.1% 44.1% 5.3% inter: 6.8% 13.7% 0.0%\n",
      "[libx264 @ 0x639fa2641ec0] i16 v,h,dc,p: 28% 33%  6% 33%\n",
      "[libx264 @ 0x639fa2641ec0] i8 v,h,dc,ddl,ddr,vr,hd,vl,hu: 33% 22% 17%  4%  5%  6%  5%  5%  3%\n",
      "[libx264 @ 0x639fa2641ec0] i4 v,h,dc,ddl,ddr,vr,hd,vl,hu: 34% 27% 11%  3%  7%  6%  6%  4%  3%\n",
      "[libx264 @ 0x639fa2641ec0] i8c dc,h,v,p: 56% 21% 19%  4%\n",
      "[libx264 @ 0x639fa2641ec0] Weighted P-Frames: Y:2.4% UV:1.2%\n",
      "[libx264 @ 0x639fa2641ec0] ref P L0: 73.6%  9.5% 12.8%  4.2%  0.0%\n",
      "[libx264 @ 0x639fa2641ec0] ref B L0: 90.9%  7.8%  1.4%\n",
      "[libx264 @ 0x639fa2641ec0] ref B L1: 97.9%  2.1%\n",
      "[libx264 @ 0x639fa2641ec0] kb/s:1443.47\n",
      "[aac @ 0x639fa2546500] Qavg: 396.461\n"
     ]
    },
    {
     "data": {
      "text/plain": [
       "0"
      ]
     },
     "execution_count": 6,
     "metadata": {},
     "output_type": "execute_result"
    }
   ],
   "source": [
    "#os.system('ffmpeg -i /home/malav/Downloads/tirm_new2.mp4 -vf \"crop=in_h*9/16:in_h,scale=720:1280,pad=720:1280:(ow-iw)/2:(oh-ih)/2\" /home/malav/Downloads/tirm_new3.mp4')\n"
   ]
  },
  {
   "cell_type": "code",
   "execution_count": 8,
   "metadata": {},
   "outputs": [
    {
     "name": "stderr",
     "output_type": "stream",
     "text": [
      "ffmpeg version 6.0-6ubuntu1.1 Copyright (c) 2000-2023 the FFmpeg developers\n",
      "  built with gcc 13 (Ubuntu 13.2.0-4ubuntu3)\n",
      "  configuration: --prefix=/usr --extra-version=6ubuntu1.1 --toolchain=hardened --libdir=/usr/lib/x86_64-linux-gnu --incdir=/usr/include/x86_64-linux-gnu --arch=amd64 --enable-gpl --disable-stripping --enable-gnutls --enable-ladspa --enable-libaom --enable-libass --enable-libbluray --enable-libbs2b --enable-libcaca --enable-libcdio --enable-libcodec2 --enable-libdav1d --enable-libflite --enable-libfontconfig --enable-libfreetype --enable-libfribidi --enable-libglslang --enable-libgme --enable-libgsm --enable-libjack --enable-libmp3lame --enable-libmysofa --enable-libopenjpeg --enable-libopenmpt --enable-libopus --enable-libpulse --enable-librabbitmq --enable-librist --enable-librubberband --enable-libshine --enable-libsnappy --enable-libsoxr --enable-libspeex --enable-libsrt --enable-libssh --enable-libsvtav1 --enable-libtheora --enable-libtwolame --enable-libvidstab --enable-libvorbis --enable-libvpx --enable-libwebp --enable-libx265 --enable-libxml2 --enable-libxvid --enable-libzimg --enable-libzmq --enable-libzvbi --enable-lv2 --enable-omx --enable-openal --enable-opencl --enable-opengl --enable-sdl2 --disable-sndio --enable-libjxl --enable-pocketsphinx --enable-librsvg --enable-libvpl --disable-libmfx --enable-libdc1394 --enable-libdrm --enable-libiec61883 --enable-chromaprint --enable-frei0r --enable-libx264 --enable-libplacebo --enable-librav1e --enable-shared\n",
      "  libavutil      58.  2.100 / 58.  2.100\n",
      "  libavcodec     60.  3.100 / 60.  3.100\n",
      "  libavformat    60.  3.100 / 60.  3.100\n",
      "  libavdevice    60.  1.100 / 60.  1.100\n",
      "  libavfilter     9.  3.100 /  9.  3.100\n",
      "  libswscale      7.  1.100 /  7.  1.100\n",
      "  libswresample   4. 10.100 /  4. 10.100\n",
      "  libpostproc    57.  1.100 / 57.  1.100\n",
      "Input #0, mov,mp4,m4a,3gp,3g2,mj2, from '/home/malav/Downloads/tirm_new3.mp4':\n",
      "  Metadata:\n",
      "    major_brand     : isom\n",
      "    minor_version   : 512\n",
      "    compatible_brands: isomiso2avc1mp41\n",
      "    encoder         : Lavf60.3.100\n",
      "  Duration: 00:00:25.03, start: 0.000000, bitrate: 1579 kb/s\n",
      "  Stream #0:0[0x1](und): Video: h264 (High) (avc1 / 0x31637661), yuv420p(progressive), 720x1280, 1443 kb/s, 23.98 fps, 23.98 tbr, 24k tbn (default)\n",
      "    Metadata:\n",
      "      handler_name    : VideoHandler\n",
      "      vendor_id       : [0][0][0][0]\n",
      "      encoder         : Lavc60.3.100 libx264\n",
      "  Stream #0:1[0x2](und): Audio: aac (LC) (mp4a / 0x6134706D), 44100 Hz, stereo, fltp, 129 kb/s (default)\n",
      "    Metadata:\n",
      "      handler_name    : IsoMedia File Produced by Google, 5-11-2011\n",
      "      vendor_id       : [0][0][0][0]\n",
      "Stream mapping:\n",
      "  Stream #0:0 -> #0:0 (h264 (native) -> h264 (libx264))\n",
      "  Stream #0:1 -> #0:1 (aac (native) -> aac (native))\n",
      "Press [q] to stop, [?] for help\n",
      "[libx264 @ 0x5b3b5f585cc0] using cpu capabilities: MMX2 SSE2Fast SSSE3 SSE4.2 AVX FMA3 BMI2 AVX2\n",
      "[libx264 @ 0x5b3b5f585cc0] profile High, level 3.1, 4:2:0, 8-bit\n",
      "[libx264 @ 0x5b3b5f585cc0] 264 - core 164 r3095 baee400 - H.264/MPEG-4 AVC codec - Copyleft 2003-2022 - http://www.videolan.org/x264.html - options: cabac=1 ref=3 deblock=1:0:0 analyse=0x3:0x113 me=hex subme=7 psy=1 psy_rd=1.00:0.00 mixed_ref=1 me_range=16 chroma_me=1 trellis=1 8x8dct=1 cqm=0 deadzone=21,11 fast_pskip=1 chroma_qp_offset=-2 threads=36 lookahead_threads=6 sliced_threads=0 nr=0 decimate=1 interlaced=0 bluray_compat=0 constrained_intra=0 bframes=3 b_pyramid=2 b_adapt=1 b_bias=0 direct=1 weightb=1 open_gop=0 weightp=2 keyint=250 keyint_min=23 scenecut=40 intra_refresh=0 rc_lookahead=40 rc=crf mbtree=1 crf=23.0 qcomp=0.60 qpmin=0 qpmax=69 qpstep=4 ip_ratio=1.40 aq=1:1.00\n",
      "Output #0, mp4, to '/home/malav/Downloads/tirm_new4.mp4':\n",
      "  Metadata:\n",
      "    major_brand     : isom\n",
      "    minor_version   : 512\n",
      "    compatible_brands: isomiso2avc1mp41\n",
      "    encoder         : Lavf60.3.100\n",
      "  Stream #0:0(und): Video: h264 (avc1 / 0x31637661), yuv420p(progressive), 720x1280, q=2-31, 23.98 fps, 24k tbn (default)\n",
      "    Metadata:\n",
      "      handler_name    : VideoHandler\n",
      "      vendor_id       : [0][0][0][0]\n",
      "      encoder         : Lavc60.3.100 libx264\n",
      "    Side data:\n",
      "      cpb: bitrate max/min/avg: 0/0/0 buffer size: 0 vbv_delay: N/A\n",
      "  Stream #0:1(und): Audio: aac (LC) (mp4a / 0x6134706D), 44100 Hz, stereo, fltp, 128 kb/s (default)\n",
      "    Metadata:\n",
      "      handler_name    : IsoMedia File Produced by Google, 5-11-2011\n",
      "      vendor_id       : [0][0][0][0]\n",
      "      encoder         : Lavc60.3.100 aac\n",
      "frame=  600 fps=245 q=-1.0 Lsize=    4697kB time=00:00:24.98 bitrate=1540.0kbits/s speed=10.2x    \n",
      "video:4281kB audio:396kB subtitle:0kB other streams:0kB global headers:0kB muxing overhead: 0.417856%\n",
      "[libx264 @ 0x5b3b5f585cc0] frame I:32    Avg QP:18.89  size: 24584\n",
      "[libx264 @ 0x5b3b5f585cc0] frame P:263   Avg QP:22.15  size:  9387\n",
      "[libx264 @ 0x5b3b5f585cc0] frame B:305   Avg QP:24.15  size:  3697\n",
      "[libx264 @ 0x5b3b5f585cc0] consecutive B-frames: 20.0% 34.3%  7.0% 38.7%\n",
      "[libx264 @ 0x5b3b5f585cc0] mb I  I16..4: 19.5% 74.2%  6.3%\n",
      "[libx264 @ 0x5b3b5f585cc0] mb P  I16..4:  9.5% 27.2%  0.5%  P16..4: 33.5%  5.4%  1.2%  0.0%  0.0%    skip:22.8%\n",
      "[libx264 @ 0x5b3b5f585cc0] mb B  I16..4:  1.1%  2.8%  0.0%  B16..8: 34.7%  2.8%  0.2%  direct: 1.1%  skip:57.3%  L0:46.0% L1:52.2% BI: 1.9%\n",
      "[libx264 @ 0x5b3b5f585cc0] 8x8 transform intra:73.1% inter:95.2%\n",
      "[libx264 @ 0x5b3b5f585cc0] coded y,uvDC,uvAC intra: 31.4% 44.6% 5.1% inter: 6.0% 13.2% 0.0%\n",
      "[libx264 @ 0x5b3b5f585cc0] i16 v,h,dc,p: 28% 33%  6% 33%\n",
      "[libx264 @ 0x5b3b5f585cc0] i8 v,h,dc,ddl,ddr,vr,hd,vl,hu: 34% 22% 18%  4%  5%  5%  5%  5%  3%\n",
      "[libx264 @ 0x5b3b5f585cc0] i4 v,h,dc,ddl,ddr,vr,hd,vl,hu: 35% 27% 10%  3%  7%  6%  5%  4%  3%\n",
      "[libx264 @ 0x5b3b5f585cc0] i8c dc,h,v,p: 56% 21% 19%  4%\n",
      "[libx264 @ 0x5b3b5f585cc0] Weighted P-Frames: Y:2.3% UV:1.1%\n",
      "[libx264 @ 0x5b3b5f585cc0] ref P L0: 73.4%  9.3% 13.0%  4.3%  0.0%\n",
      "[libx264 @ 0x5b3b5f585cc0] ref B L0: 90.9%  7.9%  1.2%\n",
      "[libx264 @ 0x5b3b5f585cc0] ref B L1: 98.1%  1.9%\n",
      "[libx264 @ 0x5b3b5f585cc0] kb/s:1401.16\n",
      "[aac @ 0x5b3b5f48a540] Qavg: 386.940\n"
     ]
    },
    {
     "data": {
      "text/plain": [
       "0"
      ]
     },
     "execution_count": 8,
     "metadata": {},
     "output_type": "execute_result"
    }
   ],
   "source": [
    "#os.system('ffmpeg -i /home/malav/Downloads/tirm_new3.mp4 -vf \"pad=720:1280:(ow-iw)/2:(oh-ih)/2\" /home/malav/Downloads/tirm_new4.mp4')\n"
   ]
  },
  {
   "cell_type": "code",
   "execution_count": null,
   "metadata": {},
   "outputs": [],
   "source": []
  },
  {
   "cell_type": "code",
   "execution_count": null,
   "metadata": {},
   "outputs": [],
   "source": []
  },
  {
   "cell_type": "code",
   "execution_count": null,
   "metadata": {},
   "outputs": [],
   "source": []
  },
  {
   "cell_type": "code",
   "execution_count": 10,
   "metadata": {},
   "outputs": [],
   "source": [
    "from mb_ffmpeg.basic_ops import BasicOperations"
   ]
  },
  {
   "cell_type": "code",
   "execution_count": 12,
   "metadata": {},
   "outputs": [
    {
     "data": {
      "text/plain": [
       "{'streams': [{'index': 0,\n",
       "   'codec_name': 'h264',\n",
       "   'codec_long_name': 'H.264 / AVC / MPEG-4 AVC / MPEG-4 part 10',\n",
       "   'profile': 'High',\n",
       "   'codec_type': 'video',\n",
       "   'codec_tag_string': 'avc1',\n",
       "   'codec_tag': '0x31637661',\n",
       "   'width': 720,\n",
       "   'height': 1280,\n",
       "   'coded_width': 720,\n",
       "   'coded_height': 1280,\n",
       "   'closed_captions': 0,\n",
       "   'film_grain': 0,\n",
       "   'has_b_frames': 2,\n",
       "   'pix_fmt': 'yuv420p',\n",
       "   'level': 31,\n",
       "   'chroma_location': 'left',\n",
       "   'field_order': 'progressive',\n",
       "   'refs': 1,\n",
       "   'is_avc': 'true',\n",
       "   'nal_length_size': '4',\n",
       "   'id': '0x1',\n",
       "   'r_frame_rate': '24000/1001',\n",
       "   'avg_frame_rate': '24000/1001',\n",
       "   'time_base': '1/24000',\n",
       "   'start_pts': 0,\n",
       "   'start_time': '0.000000',\n",
       "   'duration_ts': 600600,\n",
       "   'duration': '25.025000',\n",
       "   'bit_rate': '1401384',\n",
       "   'bits_per_raw_sample': '8',\n",
       "   'nb_frames': '600',\n",
       "   'extradata_size': 44,\n",
       "   'disposition': {'default': 1,\n",
       "    'dub': 0,\n",
       "    'original': 0,\n",
       "    'comment': 0,\n",
       "    'lyrics': 0,\n",
       "    'karaoke': 0,\n",
       "    'forced': 0,\n",
       "    'hearing_impaired': 0,\n",
       "    'visual_impaired': 0,\n",
       "    'clean_effects': 0,\n",
       "    'attached_pic': 0,\n",
       "    'timed_thumbnails': 0,\n",
       "    'captions': 0,\n",
       "    'descriptions': 0,\n",
       "    'metadata': 0,\n",
       "    'dependent': 0,\n",
       "    'still_image': 0},\n",
       "   'tags': {'language': 'und',\n",
       "    'handler_name': 'VideoHandler',\n",
       "    'vendor_id': '[0][0][0][0]',\n",
       "    'encoder': 'Lavc60.3.100 libx264'}},\n",
       "  {'index': 1,\n",
       "   'codec_name': 'aac',\n",
       "   'codec_long_name': 'AAC (Advanced Audio Coding)',\n",
       "   'profile': 'LC',\n",
       "   'codec_type': 'audio',\n",
       "   'codec_tag_string': 'mp4a',\n",
       "   'codec_tag': '0x6134706d',\n",
       "   'sample_fmt': 'fltp',\n",
       "   'sample_rate': '44100',\n",
       "   'channels': 2,\n",
       "   'channel_layout': 'stereo',\n",
       "   'bits_per_sample': 0,\n",
       "   'initial_padding': 0,\n",
       "   'id': '0x2',\n",
       "   'r_frame_rate': '0/0',\n",
       "   'avg_frame_rate': '0/0',\n",
       "   'time_base': '1/44100',\n",
       "   'start_pts': 0,\n",
       "   'start_time': '0.000000',\n",
       "   'duration_ts': 1102853,\n",
       "   'duration': '25.008005',\n",
       "   'bit_rate': '129678',\n",
       "   'nb_frames': '1078',\n",
       "   'extradata_size': 5,\n",
       "   'disposition': {'default': 1,\n",
       "    'dub': 0,\n",
       "    'original': 0,\n",
       "    'comment': 0,\n",
       "    'lyrics': 0,\n",
       "    'karaoke': 0,\n",
       "    'forced': 0,\n",
       "    'hearing_impaired': 0,\n",
       "    'visual_impaired': 0,\n",
       "    'clean_effects': 0,\n",
       "    'attached_pic': 0,\n",
       "    'timed_thumbnails': 0,\n",
       "    'captions': 0,\n",
       "    'descriptions': 0,\n",
       "    'metadata': 0,\n",
       "    'dependent': 0,\n",
       "    'still_image': 0},\n",
       "   'tags': {'language': 'und',\n",
       "    'handler_name': 'IsoMedia File Produced by Google, 5-11-2011',\n",
       "    'vendor_id': '[0][0][0][0]'}}],\n",
       " 'format': {'filename': '/home/malav/Downloads/tirm_new4.mp4',\n",
       "  'nb_streams': 2,\n",
       "  'nb_programs': 0,\n",
       "  'format_name': 'mov,mp4,m4a,3gp,3g2,mj2',\n",
       "  'format_long_name': 'QuickTime / MOV',\n",
       "  'start_time': '0.000000',\n",
       "  'duration': '25.025000',\n",
       "  'size': '4809466',\n",
       "  'bit_rate': '1537491',\n",
       "  'probe_score': 100,\n",
       "  'tags': {'major_brand': 'isom',\n",
       "   'minor_version': '512',\n",
       "   'compatible_brands': 'isomiso2avc1mp41',\n",
       "   'encoder': 'Lavf60.3.100'}}}"
      ]
     },
     "execution_count": 12,
     "metadata": {},
     "output_type": "execute_result"
    }
   ],
   "source": [
    "BasicOperations().video_info('/home/malav/Downloads/tirm_new4.mp4')"
   ]
  },
  {
   "cell_type": "code",
   "execution_count": null,
   "metadata": {},
   "outputs": [],
   "source": []
  }
 ],
 "metadata": {
  "kernelspec": {
   "display_name": "Python 3",
   "language": "python",
   "name": "python3"
  },
  "language_info": {
   "codemirror_mode": {
    "name": "ipython",
    "version": 3
   },
   "file_extension": ".py",
   "mimetype": "text/x-python",
   "name": "python",
   "nbconvert_exporter": "python",
   "pygments_lexer": "ipython3",
   "version": "3.11.6"
  }
 },
 "nbformat": 4,
 "nbformat_minor": 2
}
